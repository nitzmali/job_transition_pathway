{
 "cells": [
  {
   "attachments": {},
   "cell_type": "markdown",
   "metadata": {},
   "source": [
    "## import modules"
   ]
  },
  {
   "cell_type": "code",
   "execution_count": 281,
   "metadata": {},
   "outputs": [],
   "source": [
    "import random\n",
    "import os \n",
    "import numpy as np \n",
    "import tensorflow as tf\n",
    "# Set a random seed for reproducibility\n",
    "seed_value = 42\n",
    "os.environ['PYTHONHASHSEED'] = str(seed_value)\n",
    "random.seed(seed_value)\n",
    "np.random.seed(seed_value)\n",
    "tf.random.set_seed(seed_value)\n",
    "import pandas as pd \n",
    "from transformers import AutoTokenizer, TFAutoModel\n",
    "import pandas as pd \n",
    "from sklearn.model_selection import train_test_split\n",
    "import tensorflow\n",
    "from tensorflow.keras.layers import Dropout\n",
    "from tensorflow.keras.optimizers import Adam\n",
    "from tensorflow.keras.models import Sequential\n",
    "from tensorflow.keras.layers import LSTM, Dropout, Dense, Bidirectional\n",
    "from tensorflow.keras.layers import Layer\n",
    "import tensorflow.keras.backend as K"
   ]
  },
  {
   "cell_type": "code",
   "execution_count": 282,
   "metadata": {},
   "outputs": [
    {
     "name": "stdout",
     "output_type": "stream",
     "text": [
      "Current Skills\n",
      "Next Skills\n",
      "Skill Gap\n",
      "Course Skills\n"
     ]
    }
   ],
   "source": [
    "## Load data \n",
    "\n",
    "synthetic_user_data = pd.read_csv(\"/Users/nyzy/Library/CloudStorage/GoogleDrive-nitinmali999@gmail.com/.shortcut-targets-by-id/1yEbTjc1DwwTDd2CB86Il6F-3DhFUn8pU/Data Mining/data/processed_datasets/synthetic_data_half_cleaned_mac_full_v1.csv\")\n",
    "import ast \n",
    "df = synthetic_user_data.copy()\n",
    "# Fill missing values if necessary\n",
    "df.fillna({'Course Taken': 'no course','course title': 'no course'}, inplace=True)\n",
    "df[\"Course Taken\"]=df[\"Course Taken\"].apply(lambda x:x.replace(\"NAN\",\"No Course\"))\n",
    "\n",
    "df[\"Course Skills\"]=df[\"Course Skills\"].apply(lambda x:ast.literal_eval(x))\n",
    "df[\"Course Skills\"].apply(lambda x: x if len(x)!=0 else \"no skills\")\n",
    "#df[\"Course title\"]=df[\"Course title\"].apply(lambda x:x.replace(\"NAN\",\"No Course\"))\n",
    "def set_to_string(skill_set):\n",
    "    if not skill_set:  # Checks if the set is empty\n",
    "        return 'no skills' \n",
    "    # Check if skill_set is a string that needs to be evaluated\n",
    "    if isinstance(skill_set, str):\n",
    "        try:\n",
    "            # Try to evaluate the string as a set\n",
    "            skill_set = ast.literal_eval(skill_set)\n",
    "        except (ValueError, SyntaxError):\n",
    "            # Handle cases where the string is not a valid set\n",
    "            pass  # You might want to return a default value or handle this case as needed\n",
    "    # Convert to string if it's a set or list\n",
    "    if isinstance(skill_set, (set, list)):\n",
    "        return ', '.join(skill_set)\n",
    "    return skill_set \n",
    "\n",
    "set_columns = ['Current Skills', 'Next Skills', 'Skill Gap', 'Course Skills']\n",
    "for col in set_columns:\n",
    "    print(col)\n",
    "    #df[col]=df[col].apply(lambda x:ast.literal_eval(x))\n",
    "    df[col] = df[col].apply(set_to_string)\n",
    "\n",
    "\n",
    "\n",
    "\n",
    "\n",
    "#df = pd.read_csv(\"/Users/nyzy/Library/CloudStorage/GoogleDrive-nitinmali999@gmail.com/.shortcut-targets-by-id/1yEbTjc1DwwTDd2CB86Il6F-3DhFUn8pU/Data Mining/data/processed_datasets/df_embedding_bert.csv\")\n",
    "\n",
    "# Loading the JSON file back into a dictionary\n",
    "import json\n",
    "Job_progression_dictionary_file_path = \"/Users/nyzy/Library/CloudStorage/GoogleDrive-nitinmali999@gmail.com/.shortcut-targets-by-id/1yEbTjc1DwwTDd2CB86Il6F-3DhFUn8pU/Data Mining/data/processed_datasets/job_progression_dictionary.json\"\n",
    "\n",
    "with open(Job_progression_dictionary_file_path, 'r') as json_file:\n",
    "    sorted_full_job_progression_dict_lower = json.load(json_file)\n",
    "\n",
    "#print(sorted_full_job_progression_dict_lower)\n",
    "# Output: {'name': 'John', 'age': 30, 'city': 'New York'}\n",
    "\n",
    "\n"
   ]
  },
  {
   "cell_type": "code",
   "execution_count": 285,
   "metadata": {},
   "outputs": [],
   "source": [
    "df = df.drop(columns=['Unnamed: 0.1', 'Unnamed: 0'])\n",
    "df = df[df[\"random next job\"]!=1].drop_duplicates()"
   ]
  },
  {
   "cell_type": "code",
   "execution_count": 289,
   "metadata": {},
   "outputs": [],
   "source": []
  },
  {
   "cell_type": "code",
   "execution_count": 292,
   "metadata": {},
   "outputs": [
    {
     "data": {
      "text/plain": [
       "43"
      ]
     },
     "execution_count": 292,
     "metadata": {},
     "output_type": "execute_result"
    }
   ],
   "source": [
    "len(df[\"Current Job\"].unique())"
   ]
  },
  {
   "cell_type": "code",
   "execution_count": null,
   "metadata": {},
   "outputs": [],
   "source": []
  },
  {
   "cell_type": "code",
   "execution_count": null,
   "metadata": {},
   "outputs": [],
   "source": []
  },
  {
   "cell_type": "code",
   "execution_count": null,
   "metadata": {},
   "outputs": [],
   "source": []
  },
  {
   "cell_type": "code",
   "execution_count": 293,
   "metadata": {},
   "outputs": [
    {
     "name": "stderr",
     "output_type": "stream",
     "text": [
      "Some weights of the PyTorch model were not used when initializing the TF 2.0 model TFBertModel: ['cls.seq_relationship.weight', 'cls.predictions.transform.dense.bias', 'cls.predictions.transform.dense.weight', 'cls.predictions.transform.LayerNorm.bias', 'cls.seq_relationship.bias', 'cls.predictions.bias', 'cls.predictions.transform.LayerNorm.weight']\n",
      "- This IS expected if you are initializing TFBertModel from a PyTorch model trained on another task or with another architecture (e.g. initializing a TFBertForSequenceClassification model from a BertForPreTraining model).\n",
      "- This IS NOT expected if you are initializing TFBertModel from a PyTorch model that you expect to be exactly identical (e.g. initializing a TFBertForSequenceClassification model from a BertForSequenceClassification model).\n",
      "All the weights of TFBertModel were initialized from the PyTorch model.\n",
      "If your task is similar to the task the model of the checkpoint was trained on, you can already use TFBertModel for predictions without further training.\n"
     ]
    }
   ],
   "source": [
    "## Build embedding \n",
    "\n",
    "\n",
    "# Initialize tokenizer and model from Hugging Face\n",
    "tokenizer = AutoTokenizer.from_pretrained(\"bert-base-uncased\")\n",
    "model = TFAutoModel.from_pretrained(\"bert-base-uncased\")\n",
    "\n",
    "def get_embedding(text):\n",
    "    inputs = tokenizer(text, return_tensors=\"tf\", padding=True, truncation=True, max_length=512)\n",
    "    outputs = model(inputs)\n",
    "    return tf.reduce_mean(outputs.last_hidden_state, 1).numpy()[0]  # Mean pooling\n",
    "\n",
    "'''\n",
    "text_columns = ['Current Job', 'Next Job', 'Current Skills', 'Next Skills', 'Skill Gap', 'course title', 'Course Skills', 'Course Taken']\n",
    "for col in text_columns:\n",
    "    df[f'{col}_embedding'] = df[col].apply(get_embedding)\n",
    "'''\n",
    "\n",
    "unique_job_titles=set()\n",
    "for key,value in sorted_full_job_progression_dict_lower.items():\n",
    "    unique_job_titles.add(key)\n",
    "    for each in value:\n",
    "        unique_job_titles.add(each)\n",
    "unique_job_titles\n",
    "\n",
    "job_embeddings = {}\n",
    "for job in unique_job_titles:\n",
    "    embedding = get_embedding(job)  # Using the same function as in your model\n",
    "    job_embeddings[tuple(embedding)] = job  # Storing embedding as tuple for dictionary key\n"
   ]
  },
  {
   "cell_type": "code",
   "execution_count": 294,
   "metadata": {},
   "outputs": [],
   "source": [
    "def batch_encode(texts, batch_size=32):\n",
    "    embeddings = []\n",
    "    for i in range(0, len(texts), batch_size):\n",
    "        batch = texts[i:i+batch_size]\n",
    "        inputs = tokenizer(batch, return_tensors=\"tf\", padding=True, truncation=True, max_length=512)\n",
    "        outputs = model(inputs)\n",
    "        batch_embeddings = tf.reduce_mean(outputs.last_hidden_state, 1).numpy()\n",
    "        embeddings.extend(batch_embeddings)\n",
    "    return embeddings\n",
    "text_columns = ['Current Job', 'Next Job', 'Current Skills', 'Next Skills', 'Skill Gap', 'course title', 'Course Skills', 'Course Taken']\n",
    "embeddings_dict = {}\n",
    "for col in text_columns:\n",
    "    embeddings_dict[col] = batch_encode(df[col].tolist())\n",
    "\n",
    "np.savez_compressed('/Users/nyzy/Library/CloudStorage/GoogleDrive-nitinmali999@gmail.com/.shortcut-targets-by-id/1yEbTjc1DwwTDd2CB86Il6F-3DhFUn8pU/Data Mining/data/processed_datasets/all_embeddings_v1.npz', **embeddings_dict)\n",
    "loaded_embeddings = np.load('/Users/nyzy/Library/CloudStorage/GoogleDrive-nitinmali999@gmail.com/.shortcut-targets-by-id/1yEbTjc1DwwTDd2CB86Il6F-3DhFUn8pU/Data Mining/data/processed_datasets/all_embeddings_v1.npz')\n"
   ]
  },
  {
   "cell_type": "code",
   "execution_count": null,
   "metadata": {},
   "outputs": [],
   "source": []
  },
  {
   "cell_type": "code",
   "execution_count": 304,
   "metadata": {},
   "outputs": [
    {
     "name": "stderr",
     "output_type": "stream",
     "text": [
      "/var/folders/17/gws30jys63j9xx5l0mwr5r4r0000gq/T/ipykernel_35121/3892250985.py:4: FutureWarning: arrays to stack must be passed as a \"sequence\" type such as list or tuple. Support for non-sequence iterables such as generators is deprecated as of NumPy 1.16 and will raise an error in the future.\n",
      "  all_embeddings = np.hstack((loaded_embeddings[each] for each in feature_columns)) # Add other embeddings as needed\n"
     ]
    },
    {
     "name": "stdout",
     "output_type": "stream",
     "text": [
      "X_train_flat shape: (4859, 2, 768)\n",
      "X_test_flat shape: (540, 2, 768)\n",
      "X_train_tensor shape: (4859, 2, 768)\n",
      "X_test_tensor shape: (540, 2, 768)\n",
      "Y_job_train_tensor shape: (4859, 768)\n",
      "Y_job_test_tensor shape: (540, 768)\n"
     ]
    }
   ],
   "source": [
    "#'Next Skills', 'Skill Gap', 'course title', 'Course Skills'\n",
    "feature_columns = ['Current Job', 'Current Skills',]\n",
    "# Stack embeddings horizontally (axis=1)\n",
    "all_embeddings = np.hstack((loaded_embeddings[each] for each in feature_columns)) # Add other embeddings as needed\n",
    "y_job = loaded_embeddings['Next Job']\n",
    "#y_course = loaded_embeddings['Course Taken_embedding']\n",
    "\n",
    "from sklearn.model_selection import train_test_split\n",
    "\n",
    "# Assuming 'target' is your target array\n",
    "X_train, X_test, y_job_train, y_job_test = train_test_split(all_embeddings, y_job, test_size=0.1, random_state=42)\n",
    "\n",
    "# Flatten the embeddings if they are not already\n",
    "X_train_flat = X_train.reshape(X_train.shape[0],len(feature_columns), -1)\n",
    "X_test_flat = X_test.reshape(X_test.shape[0],len(feature_columns), -1)\n",
    "\n",
    "# Verify the new shapes\n",
    "print(\"X_train_flat shape:\", X_train_flat.shape)\n",
    "print(\"X_test_flat shape:\", X_test_flat.shape)\n",
    "X_train_tensor = tf.convert_to_tensor(X_train_flat, dtype=tf.float32)\n",
    "X_test_tensor = tf.convert_to_tensor(X_test_flat, dtype=tf.float32)\n",
    "\n",
    "print(\"X_train_tensor shape:\", X_train_tensor.shape)\n",
    "print(\"X_test_tensor shape:\", X_test_tensor.shape)\n",
    "\n",
    "\n",
    "y_job_train_tensor = tf.convert_to_tensor(y_job_train, dtype=tf.float32)\n",
    "y_job_test_tensor = tf.convert_to_tensor(y_job_test, dtype=tf.float32)\n",
    "\n",
    "print(\"Y_job_train_tensor shape:\", y_job_train_tensor.shape)\n",
    "print(\"Y_job_test_tensor shape:\", y_job_test_tensor.shape)\n"
   ]
  },
  {
   "cell_type": "code",
   "execution_count": 305,
   "metadata": {},
   "outputs": [],
   "source": [
    "## Attention layer \n",
    "\n",
    "\n",
    "\n",
    "class AttentionLayer(Layer):\n",
    "    def __init__(self, **kwargs):\n",
    "        super(AttentionLayer, self).__init__(**kwargs)\n",
    "\n",
    "    def build(self, input_shape):\n",
    "        self.W = self.add_weight(name='attention_weight', \n",
    "                                 shape=(input_shape[-1], 1),\n",
    "                                 initializer='random_normal',\n",
    "                                 trainable=True)\n",
    "        self.b = self.add_weight(name='attention_bias',\n",
    "                                 shape=(input_shape[1], 1),\n",
    "                                 initializer='zeros',\n",
    "                                 trainable=True)\n",
    "        super(AttentionLayer, self).build(input_shape)\n",
    "\n",
    "    def call(self, x):\n",
    "        # e = K.tanh(K.dot(x, self.W) + self.b)\n",
    "        e = K.squeeze(K.tanh(K.dot(x, self.W) + self.b), axis=-1)\n",
    "        a = K.softmax(e)\n",
    "        a = K.expand_dims(a, axis=-1)\n",
    "        weighted_output = x * a\n",
    "        return K.sum(weighted_output, axis=1)\n",
    "\n",
    "    def compute_output_shape(self, input_shape):\n",
    "        return (input_shape[0], input_shape[-1])\n"
   ]
  },
  {
   "cell_type": "code",
   "execution_count": 306,
   "metadata": {},
   "outputs": [
    {
     "name": "stdout",
     "output_type": "stream",
     "text": [
      "Epoch 1/50\n",
      "137/137 [==============================] - 17s 59ms/step - loss: 0.0332 - val_loss: 0.0218\n",
      "Epoch 2/50\n",
      "137/137 [==============================] - 6s 42ms/step - loss: 0.0221 - val_loss: 0.0193\n",
      "Epoch 3/50\n",
      "137/137 [==============================] - 6s 41ms/step - loss: 0.0200 - val_loss: 0.0184\n",
      "Epoch 4/50\n",
      "137/137 [==============================] - 5s 39ms/step - loss: 0.0191 - val_loss: 0.0180\n",
      "Epoch 5/50\n",
      "137/137 [==============================] - 5s 40ms/step - loss: 0.0187 - val_loss: 0.0177\n",
      "Epoch 6/50\n",
      "137/137 [==============================] - 5s 38ms/step - loss: 0.0185 - val_loss: 0.0178\n",
      "Epoch 7/50\n",
      "137/137 [==============================] - 5s 39ms/step - loss: 0.0183 - val_loss: 0.0177\n",
      "Epoch 8/50\n",
      "137/137 [==============================] - 6s 45ms/step - loss: 0.0182 - val_loss: 0.0174\n",
      "Epoch 9/50\n",
      "137/137 [==============================] - 6s 41ms/step - loss: 0.0180 - val_loss: 0.0172\n",
      "Epoch 10/50\n",
      "137/137 [==============================] - 6s 45ms/step - loss: 0.0179 - val_loss: 0.0173\n",
      "Epoch 11/50\n",
      "137/137 [==============================] - 5s 37ms/step - loss: 0.0177 - val_loss: 0.0173\n",
      "Epoch 12/50\n",
      "137/137 [==============================] - 5s 37ms/step - loss: 0.0178 - val_loss: 0.0170\n",
      "Epoch 13/50\n",
      "137/137 [==============================] - 5s 34ms/step - loss: 0.0176 - val_loss: 0.0172\n",
      "Epoch 14/50\n",
      "137/137 [==============================] - 5s 35ms/step - loss: 0.0176 - val_loss: 0.0173\n",
      "Epoch 15/50\n",
      "137/137 [==============================] - 5s 36ms/step - loss: 0.0176 - val_loss: 0.0172\n",
      "Epoch 16/50\n",
      "137/137 [==============================] - 5s 40ms/step - loss: 0.0175 - val_loss: 0.0171\n",
      "Epoch 17/50\n",
      "137/137 [==============================] - 5s 38ms/step - loss: 0.0175 - val_loss: 0.0170\n",
      "Epoch 18/50\n",
      "137/137 [==============================] - 5s 38ms/step - loss: 0.0174 - val_loss: 0.0171\n",
      "Epoch 19/50\n",
      "137/137 [==============================] - 4s 29ms/step - loss: 0.0175 - val_loss: 0.0171\n",
      "Epoch 20/50\n",
      "137/137 [==============================] - 4s 33ms/step - loss: 0.0174 - val_loss: 0.0172\n",
      "Epoch 21/50\n",
      "137/137 [==============================] - 4s 32ms/step - loss: 0.0174 - val_loss: 0.0170\n",
      "Epoch 22/50\n",
      "137/137 [==============================] - 5s 35ms/step - loss: 0.0173 - val_loss: 0.0171\n",
      "Epoch 23/50\n",
      "137/137 [==============================] - 5s 38ms/step - loss: 0.0173 - val_loss: 0.0171\n",
      "Epoch 24/50\n",
      "137/137 [==============================] - 5s 38ms/step - loss: 0.0174 - val_loss: 0.0171\n",
      "Epoch 25/50\n",
      "137/137 [==============================] - 5s 38ms/step - loss: 0.0173 - val_loss: 0.0171\n",
      "Epoch 26/50\n",
      "137/137 [==============================] - 5s 34ms/step - loss: 0.0173 - val_loss: 0.0171\n",
      "Epoch 27/50\n",
      "137/137 [==============================] - 5s 33ms/step - loss: 0.0173 - val_loss: 0.0170\n",
      "Epoch 28/50\n",
      "137/137 [==============================] - 4s 32ms/step - loss: 0.0173 - val_loss: 0.0169\n",
      "Epoch 29/50\n",
      "137/137 [==============================] - 5s 34ms/step - loss: 0.0173 - val_loss: 0.0169\n",
      "Epoch 30/50\n",
      "137/137 [==============================] - 4s 30ms/step - loss: 0.0172 - val_loss: 0.0170\n",
      "Epoch 31/50\n",
      "137/137 [==============================] - 4s 28ms/step - loss: 0.0172 - val_loss: 0.0171\n",
      "Epoch 32/50\n",
      "137/137 [==============================] - 5s 33ms/step - loss: 0.0173 - val_loss: 0.0169\n",
      "Epoch 33/50\n",
      "137/137 [==============================] - 5s 40ms/step - loss: 0.0172 - val_loss: 0.0170\n",
      "Epoch 34/50\n",
      "137/137 [==============================] - 4s 30ms/step - loss: 0.0172 - val_loss: 0.0170\n",
      "Epoch 35/50\n",
      "137/137 [==============================] - 4s 31ms/step - loss: 0.0172 - val_loss: 0.0170\n",
      "Epoch 36/50\n",
      "137/137 [==============================] - 4s 32ms/step - loss: 0.0172 - val_loss: 0.0169\n",
      "Epoch 37/50\n",
      "137/137 [==============================] - 5s 40ms/step - loss: 0.0171 - val_loss: 0.0168\n",
      "Epoch 38/50\n",
      "137/137 [==============================] - 6s 43ms/step - loss: 0.0171 - val_loss: 0.0170\n",
      "Epoch 39/50\n",
      "137/137 [==============================] - 5s 39ms/step - loss: 0.0172 - val_loss: 0.0171\n",
      "Epoch 40/50\n",
      "137/137 [==============================] - 5s 38ms/step - loss: 0.0172 - val_loss: 0.0169\n",
      "Epoch 41/50\n",
      "137/137 [==============================] - 5s 34ms/step - loss: 0.0171 - val_loss: 0.0170\n",
      "Epoch 42/50\n",
      "137/137 [==============================] - 5s 36ms/step - loss: 0.0172 - val_loss: 0.0169\n",
      "Epoch 43/50\n",
      "137/137 [==============================] - 5s 38ms/step - loss: 0.0171 - val_loss: 0.0170\n",
      "Epoch 44/50\n",
      "137/137 [==============================] - 5s 36ms/step - loss: 0.0171 - val_loss: 0.0170\n",
      "Epoch 45/50\n",
      "137/137 [==============================] - 5s 37ms/step - loss: 0.0171 - val_loss: 0.0168\n",
      "Epoch 46/50\n",
      "137/137 [==============================] - 5s 37ms/step - loss: 0.0170 - val_loss: 0.0170\n",
      "Epoch 47/50\n",
      "137/137 [==============================] - 5s 39ms/step - loss: 0.0171 - val_loss: 0.0171\n",
      "Epoch 48/50\n",
      "137/137 [==============================] - 5s 38ms/step - loss: 0.0170 - val_loss: 0.0170\n",
      "Epoch 49/50\n",
      "137/137 [==============================] - 6s 44ms/step - loss: 0.0171 - val_loss: 0.0170\n",
      "Epoch 50/50\n",
      "137/137 [==============================] - 6s 45ms/step - loss: 0.0171 - val_loss: 0.0171\n",
      "17/17 [==============================] - 0s 12ms/step - loss: 0.0172\n",
      "Test Loss: 0.017225833609700203\n",
      "17/17 [==============================] - 2s 15ms/step\n"
     ]
    }
   ],
   "source": [
    "## Build model architecture \n",
    "\n",
    "'''\n",
    "model_job = Sequential()\n",
    "\n",
    "# Add the first LSTM layer with input_shape\n",
    "model_job.add(Bidirectional(LSTM(128, return_sequences=True), input_shape=(6, 768)))\n",
    "\n",
    "# Add dropout for regularization\n",
    "model_job.add(Dropout(0.2))\n",
    "\n",
    "# Add the second LSTM layer\n",
    "# No need to specify input_shape as it's not the first layer of the model\n",
    "model_job.add(Bidirectional(LSTM(128)))\n",
    "\n",
    "# Another dropout layer\n",
    "model_job.add(Dropout(0.2))\n",
    "\n",
    "\n",
    "# Final Dense layer to output the embeddings\n",
    "model_job.add(Dense(768))  # Make sure this matches the size of your embeddings\n",
    "'''\n",
    "'''\n",
    "model_job = Sequential()\n",
    "\n",
    "# First LSTM layer\n",
    "model_job.add(Bidirectional(LSTM(128, return_sequences=True), input_shape=(6, 768)))\n",
    "model_job.add(Dropout(0.2))\n",
    "\n",
    "# Additional LSTM layer, with return_sequences=True since there's another LSTM layer following\n",
    "model_job.add(Bidirectional(LSTM(128, return_sequences=True)))\n",
    "model_job.add(Dropout(0.2))\n",
    "\n",
    "# Last LSTM layer, return_sequences is False by default\n",
    "model_job.add(Bidirectional(LSTM(128)))\n",
    "model_job.add(Dropout(0.2))\n",
    "\n",
    "# Dense layers can also be added for further processing\n",
    "model_job.add(Dense(256, activation='relu'))\n",
    "model_job.add(Dropout(0.2))\n",
    "\n",
    "# Output layer\n",
    "model_job.add(Dense(768))  \n",
    "'''\n",
    "\n",
    "model_job = Sequential()\n",
    "\n",
    "# First LSTM layer\n",
    "model_job.add(Bidirectional(LSTM(128, return_sequences=True), input_shape=(len(feature_columns), 768)))\n",
    "model_job.add(Dropout(0.2))\n",
    "\n",
    "# Second LSTM layer\n",
    "model_job.add(Bidirectional(LSTM(128, return_sequences=True)))\n",
    "model_job.add(Dropout(0.2))\n",
    "\n",
    "# Attention Layer\n",
    "model_job.add(AttentionLayer())\n",
    "\n",
    "# Dense layer (optional, depending on your specific problem)\n",
    "model_job.add(Dense(256, activation='relu'))\n",
    "model_job.add(Dropout(0.2))\n",
    "\n",
    "# Output layer\n",
    "model_job.add(Dense(768))  \n",
    "\n",
    "\n",
    "\n",
    "\n",
    "model_job.compile(optimizer='Adam', loss='mean_squared_error')\n",
    "history = model_job.fit(X_train_tensor, y_job_train_tensor, epochs=50, batch_size=32, validation_split=0.1)\n",
    "loss = model_job.evaluate(X_test_tensor, y_job_test_tensor)\n",
    "print(f\"Test Loss: {loss}\")\n",
    "\n",
    "#Make Predictions\n",
    "predictions = model_job.predict(X_test_tensor)\n"
   ]
  },
  {
   "cell_type": "code",
   "execution_count": 307,
   "metadata": {},
   "outputs": [
    {
     "name": "stdout",
     "output_type": "stream",
     "text": [
      "Accuracy: 20.93%\n"
     ]
    }
   ],
   "source": [
    "from sklearn.feature_extraction.text import TfidfVectorizer\n",
    "from sklearn.metrics.pairwise import cosine_similarity\n",
    "def find_closest_job_title(prediction, embedding_dict):\n",
    "    highest_similarity = -1\n",
    "    closest_job = None\n",
    "\n",
    "    # Ensure prediction is a 2D array\n",
    "    if len(prediction.shape) == 1:\n",
    "        prediction = prediction.reshape(1, -1)\n",
    "\n",
    "    for ref_embedding_tuple, job_title in embedding_dict.items():\n",
    "        # Convert tuple to NumPy array and reshape to 2D\n",
    "        ref_embedding = np.array(ref_embedding_tuple).reshape(1, -1)\n",
    "\n",
    "        similarity = cosine_similarity(prediction, ref_embedding)[0][0]\n",
    "        if similarity > highest_similarity:\n",
    "            highest_similarity = similarity\n",
    "            closest_job = job_title\n",
    "\n",
    "    return closest_job\n",
    "\n",
    "\n",
    "\n",
    "predicted_job_titles = [find_closest_job_title(pred, job_embeddings) for pred in predictions]\n",
    "\n",
    "actual_job_titles = [find_closest_job_title(actual_emb, job_embeddings) for actual_emb in y_job_test]\n",
    "matches = [pred == actual for pred, actual in zip(predicted_job_titles, actual_job_titles)]\n",
    "accuracy = sum(matches) / len(matches)\n",
    "print(f\"Accuracy: {accuracy * 100:.2f}%\")"
   ]
  },
  {
   "cell_type": "code",
   "execution_count": 308,
   "metadata": {},
   "outputs": [
    {
     "data": {
      "image/png": "[encoded data removed]",
      "text/plain": [
       "<Figure size 640x480 with 1 Axes>"
      ]
     },
     "metadata": {},
     "output_type": "display_data"
    }
   ],
   "source": [
    "import matplotlib.pyplot as plt\n",
    "# Plot training & validation loss\n",
    "plt.plot(history.history['loss'])\n",
    "plt.plot(history.history['val_loss'])\n",
    "plt.title('Model Loss')\n",
    "plt.ylabel('Loss')\n",
    "plt.xlabel('Epoch')\n",
    "plt.legend(['Train', 'Validation'], loc='upper left')\n",
    "plt.show()"
   ]
  },
  {
   "cell_type": "code",
   "execution_count": null,
   "metadata": {},
   "outputs": [],
   "source": [
    "## Seq2Seq model \n",
    "\n"
   ]
  },
  {
   "cell_type": "code",
   "execution_count": null,
   "metadata": {},
   "outputs": [],
   "source": []
  }
 ],
 "metadata": {
  "kernelspec": {
   "display_name": "sandbox",
   "language": "python",
   "name": "python3"
  },
  "language_info": {
   "codemirror_mode": {
    "name": "ipython",
    "version": 3
   },
   "file_extension": ".py",
   "mimetype": "text/x-python",
   "name": "python",
   "nbconvert_exporter": "python",
   "pygments_lexer": "ipython3",
   "version": "3.9.17"
  },
  "orig_nbformat": 4,
  "vscode": {
   "interpreter": {
    "hash": "75cbfe992e831883bebc34d351837a73fc44aae74ab7e2dffad989642b16aeb2"
   }
  }
 },
 "nbformat": 4,
 "nbformat_minor": 2
}
