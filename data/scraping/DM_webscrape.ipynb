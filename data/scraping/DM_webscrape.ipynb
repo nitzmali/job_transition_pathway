{
 "cells": [
  {
   "attachments": {},
   "cell_type": "markdown",
   "id": "5e3268a0",
   "metadata": {},
   "source": [
    "## Code to scrape the data for Jobs and Courses and skills"
   ]
  },
  {
   "cell_type": "markdown",
   "id": "54dfe9ea",
   "metadata": {},
   "source": [
    "## Scrape Jobs Data"
   ]
  },
  {
   "cell_type": "code",
   "execution_count": null,
   "id": "3e1282fa",
   "metadata": {},
   "outputs": [],
   "source": [
    "from apify_client import ApifyClient\n",
    "from datetime import datetime\n",
    "import os\n",
    "import pandas as pd \n",
    "# Initialize the ApifyClient with your API token\n",
    "client = ApifyClient(\"apify_api_7elk3IazWWrNqc5LNGAnx9mBDSoL4h1YIXx2\")\n",
    "\n",
    "Job_progression_dictionary =  {\n",
    "\"Junior Data Analyst\" : [\"Data Analyst\", \"Senior Data Analyst\", \"Data Engineer\", \"Senior Data Engineer\", \"Lead Data Engineer\", \"Data Architect\", \"Data Manager\", \"Director of Analytics\", \"Chief Data Officer\"],\n",
    "\"Junior Data Scientist\" : [\"Data Scientist\", \"Senior Data Scientist\", \"Lead Data Scientist\", \"Principal Data Scientist\", \"Data Science Manager\", \"Director of Data Science\", \"Vice President of Data Science\", \"Chief Data Scientist\"],\n",
    "\"Junior Data Engineer\" : [\"Data Engineer\", \"Senior Data Engineer\", \"Data Pipeline Architect\", \"Data Engineering Manager\", \"Director of Data Engineering\", \"Chief Technology Officer (CTO)\"],\n",
    "\"Business Intelligence Analyst\" : [\"Senior Business Intelligence Analyst\", \"Business Intelligence Manager\", \"Director of Business Intelligence\", \"Vice President of Business Intelligence\", \"Chief Intelligence Officer\"],\n",
    "\"Machine Learning Engineer\" : [\"Senior Machine Learning Engineer\", \"Machine Learning Architect\", \"Machine Learning Manager\", \"Head of Machine Learning\", \"Chief AI Officer\"],\n",
    "\"Data Analyst\" : [\"Data Engineer\", \"Senior Data Engineer\", \"Data Architect\", \"Senior Data Architect\", \"Enterprise Architect\", \"Chief Technology Officer (CTO)\"],\n",
    "\"Data Analyst\" : [\"Big Data Engineer\", \"Senior Big Data Engineer\", \"Big Data Architect\", \"Head of Big Data\", \"Director of Data Engineering\", \"Chief Information Officer (CIO)\"],\n",
    "\"Junior AI Developer\" : [\"AI Developer\", \"Senior AI Developer\", \"AI Architect\", \"AI Project Manager\", \"Head of AI\", \"Chief AI Officer\"],\n",
    "\"Junior DBA\" : [\"Mid-level DBA\", \"Senior DBA\", \"Database Manager\", \"Data Architect\", \"Director of Database Management\", \"Chief Information Officer (CIO)\"],\n",
    "\"Junior Statistician\" : [\"Statistician\" , \"Senior Statistician\", \"Quantitative Analyst\", \"Senior Quantitative Analyst\", \"Quantitative Research Manager\", \"Director of Quantitative Research\"],\n",
    "\"Junior Business Analyst\" : [\"Business Analyst\", \"Senior Business Analyst\", \"Business Analysis Manager\", \"Business Intelligence Analyst\", \"Director of Business Analysis\", \"Chief Strategy Officer\"],\n",
    "\"Research Assistant\" : [\"Research Analyst\", \"Research Scientist\", \"Senior Research Scientist\", \"Principal Scientist\", \"Director of Research\", \"Chief Science Officer\"],\n",
    "\"Data Analyst\" : [\"Product Analyst\", \"Data Product Manager\", \"Senior Data Product Manager\", \"Director of Product Management\", \"Vice President of Product\", \"Chief Product Officer\"]\n",
    "}\n",
    "\n",
    "unique_job_title = set()\n",
    "for key,value in Job_progression_dictionary.items():\n",
    "    unique_job_title.add(key)\n",
    "    for each in value:\n",
    "        unique_job_title.add(each)\n",
    "\n",
    "\n",
    "job_listing = list(unique_job_title)\n",
    "\n",
    "\n",
    "\n",
    "for job in job_listing:\n",
    "    # Prepare the Actor input\n",
    "    job_role = \"\".join(each +\"+\" for each in job.split())[:-1]\n",
    "    run_input = {\n",
    "        \"action\": \"scrapeJobs\",\n",
    "        \"scrapeJobs.searchUrl\": \"https://www.indeed.com/jobs?q=\"+job_role+\"&l=United+States&from=searchOnHP&vjk=0c25b1aa7efb1300\",\n",
    "        \"scrapeJobs.scrapeCompany\": False,\n",
    "        \"startPage\": 1,\n",
    "        \"count\": 100,\n",
    "        \"proxy\": {\n",
    "            \"useApifyProxy\": True,\n",
    "            \"apifyProxyGroups\": [\"RESIDENTIAL\"],\n",
    "            \"apifyProxyCountry\": \"US\",\n",
    "        },\n",
    "    }\n",
    "    items= []\n",
    "    # Run the Actor and wait for it to finish\n",
    "    run = client.actor(\"qA8rz8tR61HdkfTBL\").call(run_input=run_input)\n",
    "\n",
    "    # Fetch and print Actor results from the run's dataset (if there are any)\n",
    "    for item in client.dataset(run[\"defaultDatasetId\"]).iterate_items():\n",
    "        items.append(item)\n",
    "\n",
    "    outdir = os.path.join('/Users/nyzy/Library/CloudStorage/GoogleDrive-nitinmali999@gmail.com/.shortcut-targets-by-id/1yEbTjc1DwwTDd2CB86Il6F-3DhFUn8pU/Data Mining/job_data/',job)\n",
    "    if not os.path.exists(outdir):\n",
    "        os.mkdir(outdir)\n",
    "\n",
    "    dt = datetime.now()\n",
    "    dt_str_time = dt.strftime(\"%Y-%m-%d-%H:%M:%S\")\n",
    "    df = pd.DataFrame(items)\n",
    "    file_name = \"indeed_job_scrape_\"+job+dt_str_time\n",
    "    #df.to_csv(os.path.join(outdir,file_name+\".csv\"))\n",
    "    "
   ]
  },
  {
   "cell_type": "code",
   "execution_count": 1,
   "id": "24e9c4d8",
   "metadata": {},
   "outputs": [
    {
     "data": {
      "text/plain": [
       "74"
      ]
     },
     "execution_count": 1,
     "metadata": {},
     "output_type": "execute_result"
    }
   ],
   "source": [
    "Job_progression_dictionary =  {\n",
    "\"Junior Data Analyst\" : [\"Data Analyst\", \"Senior Data Analyst\", \"Data Engineer\", \"Senior Data Engineer\", \"Lead Data Engineer\", \"Data Architect\", \"Data Manager\", \"Director of Analytics\", \"Chief Data Officer\"],\n",
    "\"Junior Data Scientist\" : [\"Data Scientist\", \"Senior Data Scientist\", \"Lead Data Scientist\", \"Principal Data Scientist\", \"Data Science Manager\", \"Director of Data Science\", \"Vice President of Data Science\", \"Chief Data Scientist\"],\n",
    "\"Junior Data Engineer\" : [\"Data Engineer\", \"Senior Data Engineer\", \"Data Pipeline Architect\", \"Data Engineering Manager\", \"Director of Data Engineering\", \"Chief Technology Officer (CTO)\"],\n",
    "\"Business Intelligence Analyst\" : [\"Senior Business Intelligence Analyst\", \"Business Intelligence Manager\", \"Director of Business Intelligence\", \"Vice President of Business Intelligence\", \"Chief Intelligence Officer\"],\n",
    "\"Machine Learning Engineer\" : [\"Senior Machine Learning Engineer\", \"Machine Learning Architect\", \"Machine Learning Manager\", \"Head of Machine Learning\", \"Chief AI Officer\"],\n",
    "\"Data Analyst\" : [\"Data Engineer\", \"Senior Data Engineer\", \"Data Architect\", \"Senior Data Architect\", \"Enterprise Architect\", \"Chief Technology Officer (CTO)\"],\n",
    "\"Data Analyst\" : [\"Big Data Engineer\", \"Senior Big Data Engineer\", \"Big Data Architect\", \"Head of Big Data\", \"Director of Data Engineering\", \"Chief Information Officer (CIO)\"],\n",
    "\"Junior AI Developer\" : [\"AI Developer\", \"Senior AI Developer\", \"AI Architect\", \"AI Project Manager\", \"Head of AI\", \"Chief AI Officer\"],\n",
    "\"Junior DBA\" : [\"Mid-level DBA\", \"Senior DBA\", \"Database Manager\", \"Data Architect\", \"Director of Database Management\", \"Chief Information Officer (CIO)\"],\n",
    "\"Junior Statistician\" : [\"Statistician\" , \"Senior Statistician\", \"Quantitative Analyst\", \"Senior Quantitative Analyst\", \"Quantitative Research Manager\", \"Director of Quantitative Research\"],\n",
    "\"Junior Business Analyst\" : [\"Business Analyst\", \"Senior Business Analyst\", \"Business Analysis Manager\", \"Business Intelligence Analyst\", \"Director of Business Analysis\", \"Chief Strategy Officer\"],\n",
    "\"Research Assistant\" : [\"Research Analyst\", \"Research Scientist\", \"Senior Research Scientist\", \"Principal Scientist\", \"Director of Research\", \"Chief Science Officer\"],\n",
    "\"Data Analyst\" : [\"Product Analyst\", \"Data Product Manager\", \"Senior Data Product Manager\", \"Director of Product Management\", \"Vice President of Product\", \"Chief Product Officer\"]\n",
    "}\n",
    "\n",
    "unique_job_title = set()\n",
    "for key,value in Job_progression_dictionary.items():\n",
    "    unique_job_title.add(key)\n",
    "    for each in value:\n",
    "        unique_job_title.add(each)\n",
    "\n",
    "\n",
    "job_listing = list(unique_job_title)\n",
    "len(job_listing)"
   ]
  },
  {
   "cell_type": "code",
   "execution_count": null,
   "id": "4fb5b159",
   "metadata": {},
   "outputs": [],
   "source": []
  },
  {
   "attachments": {},
   "cell_type": "markdown",
   "id": "36a80410",
   "metadata": {},
   "source": [
    "## Scrape Courses data"
   ]
  },
  {
   "cell_type": "code",
   "execution_count": 131,
   "id": "4a7044c2",
   "metadata": {},
   "outputs": [],
   "source": [
    "from apify_client import ApifyClient\n",
    "\n",
    "# Initialize the ApifyClient with your API token\n",
    "client = ApifyClient(\"apify_api_7elk3IazWWrNqc5LNGAnx9mBDSoL4h1YIXx2\")\n",
    "\n",
    "# Prepare the Actor input\n",
    "run_input = {\n",
    "    \"category_url\": [{ \"url\": \"https://www.udemy.com/courses/development/data-science/\" }],\n",
    "    \"max_items\": 3300,\n",
    "    \"start_page\": 1,\n",
    "    \"proxySettings\": { \"useApifyProxy\": True },\n",
    "}\n",
    "items= []\n",
    "    # Run the Actor and wait for it to finish\n",
    "run = client.actor(\"0qtntHCmAJ1Fbw8AK\").call(run_input=run_input)\n",
    "\n",
    "# Fetch and print Actor results from the run's dataset (if there are any)\n",
    "for item in client.dataset(run[\"defaultDatasetId\"]).iterate_items():\n",
    "    items.append(item)\n",
    "\n",
    "dt = datetime.now()\n",
    "dt_str_time = dt.strftime(\"%Y-%m-%d-%H:%M:%S\")\n",
    "df = pd.DataFrame(items)\n",
    "file_name = \"udemy_courses_scrape_\"+dt_str_time\n",
    "##df.to_csv(\"/Users/nyzy/Library/CloudStorage/GoogleDrive-nitinmali999@gmail.com/.shortcut-targets-by-id/1yEbTjc1DwwTDd2CB86Il6F-3DhFUn8pU/Data Mining/courses_data/\"+file_name+\".csv\")"
   ]
  },
  {
   "cell_type": "markdown",
   "id": "428fbf03",
   "metadata": {},
   "source": [
    "## Scrape skills data"
   ]
  },
  {
   "cell_type": "code",
   "execution_count": null,
   "id": "3777f27b",
   "metadata": {},
   "outputs": [],
   "source": [
    "import requests\n",
    "import ast \n",
    "\n",
    "\n",
    "import requests\n",
    "\n",
    "url = \"https://auth.emsicloud.com/connect/token\"\n",
    "\n",
    "payload = \"client_id=uaiehrugc6avodit&client_secret=OY2oBEQB&grant_type=client_credentials&scope=emsi_open\"\n",
    "headers = {'Content-Type': 'application/x-www-form-urlencoded'}\n",
    "\n",
    "access_token = requests.request(\"POST\", url, data=payload, headers=headers)\n",
    "\n",
    "print(access_token)\n",
    "\n",
    "url = \"https://emsiservices.com/skills/versions/latest/skills\"\n",
    "\n",
    "headers = {'Authorization': 'Bearer ' + ast.literal_eval(access_token.text)[\"access_token\"]}\n",
    "\n",
    "response = requests.request(\"GET\", url, headers=headers)\n",
    "\n",
    "dict_update = ast.literal_eval(response.text)\n",
    "\n",
    "df_s = pd.DataFrame(dict_update[\"data\"])\n",
    "df_s[\"category\"] = df_s[\"type\"].apply(lambda x:x[\"name\"])\n",
    "del df_s[\"type\"]\n",
    "\n",
    "##df_s.to_csv(\"/Users/nyzy/Library/CloudStorage/GoogleDrive-nitinmali999@gmail.com/.shortcut-targets-by-id/1yEbTjc1DwwTDd2CB86Il6F-3DhFUn8pU/Data Mining/data/processed_datasets/skills_dataset/skills_df.csv\")\n",
    "\n"
   ]
  }
 ],
 "metadata": {
  "kernelspec": {
   "display_name": "sandbox",
   "language": "python",
   "name": "python3"
  },
  "language_info": {
   "codemirror_mode": {
    "name": "ipython",
    "version": 3
   },
   "file_extension": ".py",
   "mimetype": "text/x-python",
   "name": "python",
   "nbconvert_exporter": "python",
   "pygments_lexer": "ipython3",
   "version": "3.9.17 (main, Jul  5 2023, 16:17:03) \n[Clang 14.0.6 ]"
  },
  "vscode": {
   "interpreter": {
    "hash": "75cbfe992e831883bebc34d351837a73fc44aae74ab7e2dffad989642b16aeb2"
   }
  }
 },
 "nbformat": 4,
 "nbformat_minor": 5
}
